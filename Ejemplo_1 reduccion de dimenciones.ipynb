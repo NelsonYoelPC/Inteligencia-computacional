{
  "nbformat": 4,
  "nbformat_minor": 0,
  "metadata": {
    "colab": {
      "name": "Ejemplo 1.ipynb",
      "provenance": [],
      "collapsed_sections": [],
      "toc_visible": true
    },
    "kernelspec": {
      "name": "python3",
      "display_name": "Python 3"
    }
  },
  "cells": [
    {
      "cell_type": "markdown",
      "metadata": {
        "id": "jSkf73qWQenC"
      },
      "source": [
        "> Inteligencia Computacional\r\n",
        "\r\n",
        "#**APRENDISAJE NO SUPERVISADO:** REDUCCIÓN DE DIMENSIONES\r\n",
        "---\r\n",
        "\r\n",
        "**SEMESTRE:** VIII **GRUPO:** B\r\n",
        "\r\n",
        "**ESTUDIANTES:** \r\n",
        "*   Nelson Yoel Phuño Cahuana          **- 170013**\r\n",
        "*   Daysi Saimira Machaca Condori      **- 161989**\r\n",
        "\r\n",
        "\r\n",
        "\r\n",
        "\r\n",
        "\r\n",
        "\r\n",
        "\r\n",
        "\r\n"
      ]
    },
    {
      "cell_type": "code",
      "metadata": {
        "id": "hBjoj0EgyIl_"
      },
      "source": [
        "import pandas as pd\r\n",
        "import numpy as np \r\n",
        "from sklearn.model_selection import train_test_split\r\n",
        "from sklearn.preprocessing import StandardScaler\r\n",
        "from sklearn.decomposition import PCA\r\n",
        "from sklearn.metrics import confusion_matrix\r\n",
        "from sklearn.metrics import accuracy_score\r\n",
        "from sklearn.decomposition import PCA\r\n",
        "from sklearn.ensemble import RandomForestClassifier"
      ],
      "execution_count": null,
      "outputs": []
    },
    {
      "cell_type": "markdown",
      "metadata": {
        "id": "PZTYazC0QlNk"
      },
      "source": [
        "**Importar el data set desde una url logitud del sepalo, ancho del sépalo, largo de pétalo, ancho de pétalo y clases**"
      ]
    },
    {
      "cell_type": "code",
      "metadata": {
        "id": "GgSF0qxbLgZU"
      },
      "source": [
        "url = \"https://archive.ics.uci.edu/ml/machine-learning-databases/iris/iris.data\"\r\n",
        "names = ['sepal-length', 'sepal-width', 'petal-length', 'petal-width', 'Class']\r\n",
        "dataset = pd.read_csv(url, names=names)"
      ],
      "execution_count": null,
      "outputs": []
    },
    {
      "cell_type": "markdown",
      "metadata": {
        "id": "w25VMCfOQ5yn"
      },
      "source": [
        "**Mostrar nuestro conjunto de datos**"
      ]
    },
    {
      "cell_type": "code",
      "metadata": {
        "colab": {
          "base_uri": "https://localhost:8080/",
          "height": 197
        },
        "id": "wWhmi0GRLpiD",
        "outputId": "244839c3-5d10-48b6-d6ff-5b0276711154"
      },
      "source": [
        "dataset.head()"
      ],
      "execution_count": null,
      "outputs": [
        {
          "output_type": "execute_result",
          "data": {
            "text/html": [
              "<div>\n",
              "<style scoped>\n",
              "    .dataframe tbody tr th:only-of-type {\n",
              "        vertical-align: middle;\n",
              "    }\n",
              "\n",
              "    .dataframe tbody tr th {\n",
              "        vertical-align: top;\n",
              "    }\n",
              "\n",
              "    .dataframe thead th {\n",
              "        text-align: right;\n",
              "    }\n",
              "</style>\n",
              "<table border=\"1\" class=\"dataframe\">\n",
              "  <thead>\n",
              "    <tr style=\"text-align: right;\">\n",
              "      <th></th>\n",
              "      <th>sepal-length</th>\n",
              "      <th>sepal-width</th>\n",
              "      <th>petal-length</th>\n",
              "      <th>petal-width</th>\n",
              "      <th>Class</th>\n",
              "    </tr>\n",
              "  </thead>\n",
              "  <tbody>\n",
              "    <tr>\n",
              "      <th>0</th>\n",
              "      <td>5.1</td>\n",
              "      <td>3.5</td>\n",
              "      <td>1.4</td>\n",
              "      <td>0.2</td>\n",
              "      <td>Iris-setosa</td>\n",
              "    </tr>\n",
              "    <tr>\n",
              "      <th>1</th>\n",
              "      <td>4.9</td>\n",
              "      <td>3.0</td>\n",
              "      <td>1.4</td>\n",
              "      <td>0.2</td>\n",
              "      <td>Iris-setosa</td>\n",
              "    </tr>\n",
              "    <tr>\n",
              "      <th>2</th>\n",
              "      <td>4.7</td>\n",
              "      <td>3.2</td>\n",
              "      <td>1.3</td>\n",
              "      <td>0.2</td>\n",
              "      <td>Iris-setosa</td>\n",
              "    </tr>\n",
              "    <tr>\n",
              "      <th>3</th>\n",
              "      <td>4.6</td>\n",
              "      <td>3.1</td>\n",
              "      <td>1.5</td>\n",
              "      <td>0.2</td>\n",
              "      <td>Iris-setosa</td>\n",
              "    </tr>\n",
              "    <tr>\n",
              "      <th>4</th>\n",
              "      <td>5.0</td>\n",
              "      <td>3.6</td>\n",
              "      <td>1.4</td>\n",
              "      <td>0.2</td>\n",
              "      <td>Iris-setosa</td>\n",
              "    </tr>\n",
              "  </tbody>\n",
              "</table>\n",
              "</div>"
            ],
            "text/plain": [
              "   sepal-length  sepal-width  petal-length  petal-width        Class\n",
              "0           5.1          3.5           1.4          0.2  Iris-setosa\n",
              "1           4.9          3.0           1.4          0.2  Iris-setosa\n",
              "2           4.7          3.2           1.3          0.2  Iris-setosa\n",
              "3           4.6          3.1           1.5          0.2  Iris-setosa\n",
              "4           5.0          3.6           1.4          0.2  Iris-setosa"
            ]
          },
          "metadata": {
            "tags": []
          },
          "execution_count": 5
        }
      ]
    },
    {
      "cell_type": "markdown",
      "metadata": {
        "id": "rDC1h8_sRCdy"
      },
      "source": [
        "##Preprocesamiento\r\n",
        "**Se devide el conjunto de datos en un conjunto de caracteristicas y las etiquetas correspondientes**"
      ]
    },
    {
      "cell_type": "code",
      "metadata": {
        "id": "zdOJpIkaLthC"
      },
      "source": [
        "X = dataset.drop('Class', 1)\r\n",
        "y = dataset['Class']"
      ],
      "execution_count": null,
      "outputs": []
    },
    {
      "cell_type": "markdown",
      "metadata": {
        "id": "CdoZzyDKROSy"
      },
      "source": [
        "**Dividir los datos en conjuntos de prueba y entrenamiento.**"
      ]
    },
    {
      "cell_type": "code",
      "metadata": {
        "id": "7NcZYv4YLzRb"
      },
      "source": [
        "X_train, X_test, y_train, y_test = train_test_split(X, y, test_size=0.2, random_state=0)"
      ],
      "execution_count": null,
      "outputs": []
    },
    {
      "cell_type": "markdown",
      "metadata": {
        "id": "9ov509p0RX5q"
      },
      "source": [
        "**Realizaremos una normalización escalar estándar para normalizar nuestro conjunto de características**"
      ]
    },
    {
      "cell_type": "code",
      "metadata": {
        "id": "MzRANnvCL8JL"
      },
      "source": [
        "sc = StandardScaler()\r\n",
        "X_train = sc.fit_transform(X_train)\r\n",
        "X_test = sc.transform(X_test)"
      ],
      "execution_count": null,
      "outputs": []
    },
    {
      "cell_type": "markdown",
      "metadata": {
        "id": "6YbPr3eRReV6"
      },
      "source": [
        "## Aplicamos  PCA \r\n",
        "**1.  Inicialice la PCAclase pasando el número de componentes al constructor.**\r\n",
        "\r\n",
        "**2. Llame a los métodos fity luego transformpasando el conjunto de características a estos métodos. El transformmétodo devuelve el número especificado de componentes principales.**\r\n"
      ]
    },
    {
      "cell_type": "code",
      "metadata": {
        "id": "EgXC2GOML66C"
      },
      "source": [
        "pca = PCA()\r\n",
        "X_train = pca.fit_transform(X_train)\r\n",
        "X_test = pca.transform(X_test)\r\n",
        "#INDICE DE VARIANZA\r\n",
        "explained_variance = pca.explained_variance_ratio_"
      ],
      "execution_count": null,
      "outputs": []
    },
    {
      "cell_type": "markdown",
      "metadata": {
        "id": "27eewTAkS_OV"
      },
      "source": [
        "**Entrenar nuestro algoritmo con 1 componente principal**"
      ]
    },
    {
      "cell_type": "code",
      "metadata": {
        "id": "GbmGP32CMVBF"
      },
      "source": [
        "\r\n",
        "pca = PCA(n_components=1)\r\n",
        "X_train = pca.fit_transform(X_train)\r\n",
        "X_test = pca.transform(X_test)"
      ],
      "execution_count": null,
      "outputs": []
    },
    {
      "cell_type": "markdown",
      "metadata": {
        "id": "xWuiEO8VRxVC"
      },
      "source": [
        "**Entrenado y haciendo predicciones  con la clasificacion de bosque aleatoria**"
      ]
    },
    {
      "cell_type": "code",
      "metadata": {
        "id": "Ft20Ao-SMYET"
      },
      "source": [
        "classifier = RandomForestClassifier(max_depth=2, random_state=0)\r\n",
        "classifier.fit(X_train, y_train)\r\n",
        "#Predicción de los resultados del conjunto de prueba\r\n",
        "y_pred = classifier.predict(X_test)"
      ],
      "execution_count": null,
      "outputs": []
    },
    {
      "cell_type": "code",
      "metadata": {
        "colab": {
          "base_uri": "https://localhost:8080/"
        },
        "id": "a9jsPyZPMZ_K",
        "outputId": "cca82e5a-8d7c-4e08-add6-1a8462d4f3b4"
      },
      "source": [
        "cm = confusion_matrix(y_test, y_pred)\r\n",
        "print(cm)\r\n",
        "print(accuracy_score(y_test, y_pred))"
      ],
      "execution_count": null,
      "outputs": [
        {
          "output_type": "stream",
          "text": [
            "[[11  0  0]\n",
            " [ 0 12  1]\n",
            " [ 0  1  5]]\n",
            "0.9333333333333333\n"
          ],
          "name": "stdout"
        }
      ]
    },
    {
      "cell_type": "markdown",
      "metadata": {
        "id": "KFtHxfLQTk_p"
      },
      "source": [
        ""
      ]
    }
  ]
}